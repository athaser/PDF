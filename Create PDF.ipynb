{
 "cells": [
  {
   "cell_type": "code",
   "execution_count": 51,
   "metadata": {
    "collapsed": true,
    "pycharm": {
     "is_executing": false
    }
   },
   "outputs": [],
   "source": [
    "# multipage_simple.py\n",
    " \n",
    "from fpdf import FPDF\n",
    "\n",
    "def multipage_simple(u):\n",
    "    pdf = FPDF()\n",
    "    pdf.set_font(\"Arial\", size=11)\n",
    "    pdf.add_page()\n",
    "    line_no = 1\n",
    "    for i in range (1): \n",
    "            pdf.cell(170, 111, txt=\"E 8/{}\".format(u), ln=1, align=\"R\")\n",
    "            line_no += 1\n",
    "    pdf.output(\"./file/next/E/8/pre/OPS-000054 Mechanical Checklist Rev_C_E 8-{}.pdf\".format(u))\n",
    "   \n",
    "       \n",
    "if __name__ == '__main__':\n",
    "    \n",
    "    for j in range(40):\n",
    "        multipage_simple(j)\n",
    "    \n"
   ]
  },
  {
   "cell_type": "code",
   "execution_count": 51,
   "outputs": [],
   "source": [],
   "metadata": {
    "collapsed": false,
    "pycharm": {
     "name": "#%%\n",
     "is_executing": false
    }
   }
  }
 ],
 "metadata": {
  "kernelspec": {
   "display_name": "Python 3",
   "language": "python",
   "name": "python3"
  },
  "language_info": {
   "codemirror_mode": {
    "name": "ipython",
    "version": 2
   },
   "file_extension": ".py",
   "mimetype": "text/x-python",
   "name": "python",
   "nbconvert_exporter": "python",
   "pygments_lexer": "ipython2",
   "version": "2.7.6"
  },
  "pycharm": {
   "stem_cell": {
    "cell_type": "raw",
    "source": [],
    "metadata": {
     "collapsed": false
    }
   }
  }
 },
 "nbformat": 4,
 "nbformat_minor": 0
}