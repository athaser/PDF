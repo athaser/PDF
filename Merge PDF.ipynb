{
 "cells": [
  {
   "cell_type": "code",
   "execution_count": 61,
   "metadata": {
    "collapsed": true,
    "pycharm": {
     "is_executing": false,
     "name": "#%%\n"
    }
   },
   "outputs": [
    {
     "name": "stdout",
     "text": [
      "end of loop\n"
     ],
     "output_type": "stream"
    }
   ],
   "source": [
    "# pdf_watermarker.py\n",
    "\n",
    "from PyPDF2 import PdfFileWriter, PdfFileReader\n",
    "from fpdf import FPDF\n",
    "no=40\n",
    "def create_watermark(u):\n",
    "    lo = 1\n",
    "   \n",
    "    for t in range (no):\n",
    "        watermark_obj = PdfFileReader(\"./file/next/E/8/pre/OPS-000054 Mechanical Checklist Rev_C_E 8-{}.pdf\".format(u))\n",
    "        watermark_page = watermark_obj.getPage(0)\n",
    "        lo += 1\n",
    "    \n",
    "    pdf_reader = PdfFileReader(\"./file/test.pdf\")\n",
    "    pdf_writer = PdfFileWriter()\n",
    "        \n",
    "\n",
    "\n",
    "    # Watermark all the pages\n",
    "    for page in range(pdf_reader.getNumPages()):\n",
    "        first_page = pdf_reader.getPage(0)\n",
    "        page = pdf_reader.getPage(page)\n",
    "        first_page.mergePage(watermark_page)\n",
    "        pdf_writer.addPage(page)\n",
    "\n",
    "    with open(\"./file/next/E/8/OPS-000054 Mechanical Checklist Rev_C_E 8-{}.pdf\".format(u), 'wb') as out:\n",
    "        pdf_writer.write(out)\n",
    "\n",
    "\n",
    "if __name__ == '__main__':\n",
    "        for i in range(no):\n",
    "            create_watermark(i)\n",
    "\n",
    "print('end of loop')\n",
    "\n"
   ]
  }
 ],
 "metadata": {
  "kernelspec": {
   "display_name": "Python 3",
   "language": "python",
   "name": "python3"
  },
  "language_info": {
   "codemirror_mode": {
    "name": "ipython",
    "version": 2
   },
   "file_extension": ".py",
   "mimetype": "text/x-python",
   "name": "python",
   "nbconvert_exporter": "python",
   "pygments_lexer": "ipython2",
   "version": "2.7.6"
  },
  "pycharm": {
   "stem_cell": {
    "cell_type": "raw",
    "source": [],
    "metadata": {
     "collapsed": false
    }
   }
  }
 },
 "nbformat": 4,
 "nbformat_minor": 0
}